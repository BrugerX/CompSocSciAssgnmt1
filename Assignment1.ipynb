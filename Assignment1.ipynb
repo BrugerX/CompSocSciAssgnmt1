{
 "cells": [
  {
   "cell_type": "markdown",
   "source": [
    "Link to Github:\n",
    "https://github.com/BrugerX/CompSocSciAssgnmt1\n",
    "\n",
    "Contributions:\n",
    "The two other members of my group have decided to unenroll in the course.\n",
    "\n",
    "The code for the first two excercises was not done by me, while the third was done by me.\n",
    "All answers were written by me.\n",
    "Me being Benjamin Mirad Gurini, s214590."
   ],
   "metadata": {
    "collapsed": false,
    "pycharm": {
     "name": "#%% md\n"
    }
   }
  },
  {
   "cell_type": "code",
   "execution_count": 21,
   "outputs": [],
   "source": [
    "from bs4 import BeautifulSoup ##A package to work with HTML data\n",
    "import requests #A package to make HTTP requests\n",
    "import pandas as pd\n",
    "import re"
   ],
   "metadata": {
    "collapsed": false,
    "pycharm": {
     "name": "#%%\n"
    }
   }
  },
  {
   "cell_type": "markdown",
   "source": [
    "## Web scraping of 2019 - PART 1 EXCERCISE 1\n"
   ],
   "metadata": {
    "collapsed": false,
    "pycharm": {
     "name": "#%% md\n"
    }
   }
  },
  {
   "cell_type": "markdown",
   "source": [
    "#### Posters"
   ],
   "metadata": {
    "collapsed": false,
    "pycharm": {
     "name": "#%% md\n"
    }
   }
  },
  {
   "cell_type": "code",
   "execution_count": 22,
   "outputs": [],
   "source": [
    "LINK_2019 = \"https://2019.ic2s2.org/posters/\"\n",
    "r_2019 = requests.get(LINK_2019)\n",
    "soup_19 = BeautifulSoup(r_2019.content)"
   ],
   "metadata": {
    "collapsed": false,
    "pycharm": {
     "name": "#%%\n"
    }
   }
  },
  {
   "cell_type": "code",
   "execution_count": 3,
   "outputs": [],
   "source": [
    "for strong_tag in soup_19.find_all('strong'):\n",
    "    strong_tag.decompose()\n",
    "all_rows_19 = soup_19.find_all(\"li\")"
   ],
   "metadata": {
    "collapsed": false,
    "pycharm": {
     "name": "#%%\n"
    }
   }
  },
  {
   "cell_type": "code",
   "execution_count": 4,
   "outputs": [],
   "source": [
    "rows_19_posters = []\n",
    "for i in range(32,len(all_rows_19)-8):\n",
    "    text = all_rows_19[i].text\n",
    "    sep = \"\\xa0\"\n",
    "    author = text.split(sep, 1)[0]\n",
    "    author = re.sub(r'(?<![^\\W\\d_])AND(?![^\\W\\d_])', ',', author, flags=re.IGNORECASE)\n",
    "    author = author.split(\",\")\n",
    "    for i in author:\n",
    "        rows_19_posters.append(i)"
   ],
   "metadata": {
    "collapsed": false,
    "pycharm": {
     "name": "#%%\n"
    }
   }
  },
  {
   "cell_type": "code",
   "execution_count": 5,
   "outputs": [],
   "source": [
    "df_19_posters = pd.DataFrame(rows_19_posters, columns=['authors'])\n",
    "df_19_posters = df_19_posters[df_19_posters['authors'].str.strip().astype(bool)]\n",
    "df_19_posters = df_19_posters.drop_duplicates()"
   ],
   "metadata": {
    "collapsed": false,
    "pycharm": {
     "name": "#%%\n"
    }
   }
  },
  {
   "cell_type": "code",
   "execution_count": 6,
   "outputs": [
    {
     "data": {
      "text/plain": "(481, 1)"
     },
     "execution_count": 6,
     "metadata": {},
     "output_type": "execute_result"
    }
   ],
   "source": [
    "df_19_posters.shape"
   ],
   "metadata": {
    "collapsed": false,
    "pycharm": {
     "name": "#%%\n"
    }
   }
  },
  {
   "cell_type": "markdown",
   "source": [
    "#### Oral presentations"
   ],
   "metadata": {
    "collapsed": false,
    "pycharm": {
     "name": "#%% md\n"
    }
   }
  },
  {
   "cell_type": "code",
   "execution_count": 7,
   "outputs": [],
   "source": [
    "LINK_2019_oral = \"https://2019.ic2s2.org/oral-presentations/\"\n",
    "r_2019_oral = requests.get(LINK_2019_oral)\n",
    "soup_19_oral = BeautifulSoup(r_2019_oral.content)"
   ],
   "metadata": {
    "collapsed": false,
    "pycharm": {
     "name": "#%%\n"
    }
   }
  },
  {
   "cell_type": "code",
   "execution_count": 8,
   "outputs": [],
   "source": [
    "all_presentations_lst = soup_19_oral.find(\"div\",\"main\").findChild(\"div\").findChild(\"div\").findChild(\"article\").findChild(\"div\").findChild(\"div\",\"col-md-8\").findAll(\"p\")[3:]"
   ],
   "metadata": {
    "collapsed": false,
    "pycharm": {
     "name": "#%%\n"
    }
   }
  },
  {
   "cell_type": "code",
   "execution_count": 9,
   "outputs": [],
   "source": [
    "#Retruns a string where TIME0 - TIME1 - has been removed\n",
    "def getTextAfterTimestamp(text):\n",
    "    incrementer = 0\n",
    "    idx_end_of_timeStamp = 0\n",
    "    for idx,c in enumerate(text):\n",
    "        if (c == \"–\"):\n",
    "            incrementer += 1\n",
    "            if (incrementer == 2):\n",
    "                idx_end_of_timeStamp = idx + 1\n",
    "\n",
    "    return text[idx_end_of_timeStamp::]\n",
    "\n",
    "#Returns a set of names from a string formatted as: NAME0,NAME1,...,NAMEn{.,-}\n",
    "def getNamesFromText(text):\n",
    "    text = text[1:]\n",
    "    endingChars = {\".\":True,\"–\":True}\n",
    "    result_set = set()\n",
    "    current_name_string = \"\"\n",
    "\n",
    "    for idx,c in enumerate(text):\n",
    "        if(endingChars.get(c,False) and not text[idx-1].isupper()): #We check to see if the char is an ending char, and the letter before it wasn't an initial\n",
    "            result_set.add(current_name_string)\n",
    "            return result_set\n",
    "        elif (c == \",\"):\n",
    "            result_set.add(current_name_string)\n",
    "            current_name_string = \"\"\n",
    "        else:\n",
    "            if(c.isalpha() or len(current_name_string)>0): #We don't want spacebar at the start of the names\n",
    "                current_name_string += c\n",
    "\n",
    "    return result_set\n",
    "\n",
    "def getNameFromChair(text):\n",
    "    text = text.split(\":\")\n",
    "    name = text[1]\n",
    "    nameFiltered = \"\"\n",
    "\n",
    "    for chr in name:\n",
    "        if(chr.isalpha() or len(nameFiltered)>0):\n",
    "            nameFiltered+= chr\n",
    "\n",
    "    return nameFiltered"
   ],
   "metadata": {
    "collapsed": false,
    "pycharm": {
     "name": "#%%\n"
    }
   }
  },
  {
   "cell_type": "code",
   "execution_count": 10,
   "outputs": [],
   "source": [
    "set_of_names = set()\n",
    "for presentations in all_presentations_lst:\n",
    "    chairAndName = presentations.find(\"em\").string\n",
    "    set_of_names.add(getNameFromChair(chairAndName))"
   ],
   "metadata": {
    "collapsed": false,
    "pycharm": {
     "name": "#%%\n"
    }
   }
  },
  {
   "cell_type": "code",
   "execution_count": 11,
   "outputs": [],
   "source": [
    "for presentations in all_presentations_lst:\n",
    "    text = str(presentations)\n",
    "    presentations_list = text.split(\"<\")\n",
    "    for presentation in presentations_list:\n",
    "        if (len(presentation)>0 and presentation[0] == \"b\"): #We now have the start of each break\n",
    "            presentation_text = getTextAfterTimestamp(presentation)\n",
    "            if(not \"No presentation\" in presentation_text):\n",
    "                set_of_names = set_of_names.union(getNamesFromText(presentation_text))\n",
    "\n",
    "# Manual corrections\n",
    "set_of_names.remove(\"r/>The Higher Education Space\")\n",
    "set_of_names.remove(\"Moved to 3D Text Analysis) Ivan Smirnov\")\n",
    "set_of_names.add(\"Ivan Smirnov\")"
   ],
   "metadata": {
    "collapsed": false,
    "pycharm": {
     "name": "#%%\n"
    }
   }
  },
  {
   "cell_type": "code",
   "execution_count": 12,
   "outputs": [],
   "source": [
    "df_19_orals = pd.DataFrame(set_of_names, columns=['authors'])\n",
    "df_19_orals = df_19_orals.drop_duplicates()"
   ],
   "metadata": {
    "collapsed": false,
    "pycharm": {
     "name": "#%%\n"
    }
   }
  },
  {
   "cell_type": "markdown",
   "source": [
    "#### Combine 2019"
   ],
   "metadata": {
    "collapsed": false,
    "pycharm": {
     "name": "#%% md\n"
    }
   }
  },
  {
   "cell_type": "code",
   "execution_count": 13,
   "outputs": [],
   "source": [
    "df_19 = pd.concat([df_19_orals, df_19_posters])\n",
    "df_19 = df_19.drop_duplicates()"
   ],
   "metadata": {
    "collapsed": false,
    "pycharm": {
     "name": "#%%\n"
    }
   }
  },
  {
   "cell_type": "code",
   "execution_count": 17,
   "outputs": [
    {
     "name": "stdout",
     "output_type": "stream",
     "text": [
      "1007\n"
     ]
    }
   ],
   "source": [
    "unique_Authors = df_19.shape[0]\n",
    "print(unique_Authors)"
   ],
   "metadata": {
    "collapsed": false,
    "pycharm": {
     "name": "#%%\n"
    }
   }
  },
  {
   "cell_type": "code",
   "execution_count": 15,
   "outputs": [],
   "source": [
    "#df_19.to_csv('df_19_authors.csv')  - we don't actually want to save it after the first time"
   ],
   "metadata": {
    "collapsed": false,
    "pycharm": {
     "name": "#%%\n"
    }
   }
  },
  {
   "cell_type": "markdown",
   "source": [
    "#### Part 1 - Excercise 2: Number of unique authors\n",
    "\n",
    "The number of unique authors is saved in the \"unique_Authors\" variable, and it is 1007 authors.\n",
    "\n",
    "#### Part 1 - Excercise 3: Which decisions did you make? Why? And how might it have impacted the number of unique authors?\n",
    "\n",
    "So the final webscraping algorithm wasn't done by me. I did the one labelled \"Benjamin - week1_excercises\" I couldn't load some of the years with my Python, so we opted out for letting Jasmin (a previous participant of the course and member of the group) do the web scrapings.\n",
    "\n",
    "I do not know, what she chose. But I decided in my example to remove the space after the final \"-\" in the time of the presentation and the first character of each name from the 2019 oral presentations. Not doing this might've resulted in the same names being recognized as two different names, as \" Benjamin Mirad Gurini\" wouldn't be the same as \"Benjamin Mirad Gurini.\"\n",
    "\n",
    "Example:\n",
    "12:15 – 12:30 – Gustavo Jota Resende\n",
    "\n",
    "Would end up as \"Gustavo Jota Resende\" and not \" Gustavo Jota Resende\".\n"
   ],
   "metadata": {
    "collapsed": false,
    "pycharm": {
     "name": "#%% md\n"
    }
   }
  },
  {
   "cell_type": "markdown",
   "source": [
    "#### Part 2 - Excercise 1: Number of unique authors, which years we used and collaborators\n",
    "\n",
    "We will use 126549 authors.\n",
    "\n",
    "We chose all years and collaborators were included."
   ],
   "metadata": {
    "collapsed": false,
    "pycharm": {
     "name": "#%% md\n"
    }
   }
  },
  {
   "cell_type": "code",
   "execution_count": 29,
   "outputs": [
    {
     "name": "stdout",
     "output_type": "stream",
     "text": [
      "Number of unique authors: 126549\n"
     ]
    }
   ],
   "source": [
    "df_all_authors = pd.read_csv(\"authorids_and_collaborators.csv\", dtype={'authorId':str})\n",
    "print(f\"Number of unique authors: {df_all_authors.shape[0]}\")"
   ],
   "metadata": {
    "collapsed": false,
    "pycharm": {
     "name": "#%%\n"
    }
   }
  },
  {
   "cell_type": "code",
   "execution_count": null,
   "outputs": [],
   "source": [
    "#We now get all the data into a singe list\n",
    "BASE_URL = \"https://api.semanticscholar.org/graph/\"\n",
    "VERSION = \"v1/\"\n",
    "RESOURCE = \"author/batch\"\n",
    "\n",
    "params = \"fields=aliases,name,papers.title,papers.abstract,papers.year,papers.externalIds,papers.s2FieldsOfStudy,papers.citationCount,papers.authors\"\n",
    "\n",
    "my_url = BASE_URL + VERSION + RESOURCE\n",
    "\n",
    "author_ids = {'ids':list(df_all_authors.authorId.values)}\n",
    "author_ids_lst = author_ids['ids']\n",
    "\n",
    "all_data = []\n",
    "\n",
    "for itr in range(0, len(df_all_authors), 60):\n",
    "    print(itr)\n",
    "    items = author_ids_lst[itr:itr+60]\n",
    "\n",
    "    json_author_ids = {'ids':list(items)}\n",
    "\n",
    "    r = requests.post(my_url, json = json_author_ids, params = params)\n",
    "    print(r)\n",
    "    data = r.json()\n",
    "\n",
    "    all_data.append(data)\n",
    "\n",
    "    #If we don't sleep we'll overload the APi and get error 500's\n",
    "    time.sleep(5)"
   ],
   "metadata": {
    "collapsed": false,
    "pycharm": {
     "name": "#%%\n"
    }
   }
  },
  {
   "cell_type": "code",
   "execution_count": null,
   "outputs": [],
   "source": [
    "all_data_list = [item for sublist in all_data for item in sublist]"
   ],
   "metadata": {
    "collapsed": false,
    "pycharm": {
     "name": "#%%\n"
    }
   }
  },
  {
   "cell_type": "code",
   "execution_count": null,
   "outputs": [],
   "source": [
    "import json\n",
    "with open('data.json', 'w') as file:\n",
    "    json.dump(all_data_list, file)"
   ],
   "metadata": {
    "collapsed": false,
    "pycharm": {
     "name": "#%%\n"
    }
   }
  },
  {
   "cell_type": "code",
   "execution_count": null,
   "outputs": [],
   "source": [
    "# Author dataset\n",
    "author_dataset_dict = {\"author_id\": [], \"name\": [], \"aliases\": [], \"field\": [], \"citationCount\": [] }\n",
    "\n",
    "for item, itr in zip(all_data_list, range(len(all_data_list))):\n",
    "\n",
    "    print(itr)\n",
    "    if item == 'message' or item==None:\n",
    "        pass\n",
    "    else:\n",
    "        author_id = item['authorId']\n",
    "        name = item['name']\n",
    "\n",
    "\n",
    "        try:\n",
    "            aliases = item['aliases']\n",
    "        except TypeError:\n",
    "            continue\n",
    "\n",
    "\n",
    "        category = []\n",
    "\n",
    "        if len(all_data_list[itr]['papers']) == 0:\n",
    "               pass\n",
    "        else:\n",
    "            for i in range(len(all_data_list[itr]['papers'])):\n",
    "                s2FieldsOfStudy = item['papers'][i]['s2FieldsOfStudy']\n",
    "                cat = [d['category'] for d in s2FieldsOfStudy]\n",
    "                category.append(cat)\n",
    "\n",
    "            category = [lst for lst in category if lst]\n",
    "\n",
    "            flat_cat = [item for sublist in category for item in sublist]\n",
    "\n",
    "            if flat_cat:\n",
    "                counts = Counter(flat_cat)\n",
    "                most_common_category = counts.most_common(1)[0][0]\n",
    "\n",
    "        sum_citationCount = 0\n",
    "\n",
    "        if len(all_data_list[itr]['papers'])==0:\n",
    "               pass\n",
    "        else:\n",
    "            for i in range(len(all_data_list[itr]['papers'])):\n",
    "                citationCount = item['papers'][i]['citationCount']\n",
    "                sum_citationCount = citationCount + sum_citationCount\n",
    "\n",
    "\n",
    "        author_dataset_dict['author_id'].append(author_id)\n",
    "        author_dataset_dict['name'].append(name)\n",
    "        author_dataset_dict['aliases'].append(aliases)\n",
    "        author_dataset_dict['field'].append(most_common_category)\n",
    "        author_dataset_dict['citationCount'].append(sum_citationCount)"
   ],
   "metadata": {
    "collapsed": false,
    "pycharm": {
     "name": "#%%\n"
    }
   }
  },
  {
   "cell_type": "code",
   "execution_count": null,
   "outputs": [],
   "source": [
    "author_dataset_df = pd.DataFrame(author_dataset_dict)\n",
    "author_dataset_df = author_dataset_df.drop_duplicates(subset=['author_id'])"
   ],
   "metadata": {
    "collapsed": false,
    "pycharm": {
     "name": "#%%\n"
    }
   }
  },
  {
   "cell_type": "code",
   "execution_count": null,
   "outputs": [],
   "source": [
    "author_dataset_df.to_csv('author_dataset.csv')"
   ],
   "metadata": {
    "collapsed": false,
    "pycharm": {
     "name": "#%%\n"
    }
   }
  },
  {
   "cell_type": "markdown",
   "source": [
    "### Paper dataset"
   ],
   "metadata": {
    "collapsed": false,
    "pycharm": {
     "name": "#%% md\n"
    }
   }
  },
  {
   "cell_type": "code",
   "execution_count": null,
   "outputs": [],
   "source": [
    "paper_dataset_dict = {\"paper_id\": [], \"title\": [], \"year\": [], \"externalIds\": [], \"citationCount\": [],\n",
    "                      \"fields\": [],\"author_ids\": []}\n",
    "\n",
    "for item, itr in zip(all_data_list, range(len(all_data_list))):\n",
    "    print(itr)\n",
    "\n",
    "    if item == 'message' or item==None:\n",
    "        pass\n",
    "    else:\n",
    "        papers_data = [(p['authors'],p['paperId'], p['title'], p['year'], [d['category']\n",
    "                for d in p['s2FieldsOfStudy']], p['citationCount'], p['externalIds']) for p in all_data_list[itr]['papers']]\n",
    "\n",
    "\n",
    "        for authors, paper_id, tit, years, categories, citation_count, externalIds in papers_data:\n",
    "\n",
    "            if externalIds.get('DOI'):\n",
    "                doi = externalIds['DOI']\n",
    "            else:\n",
    "                doi = ''\n",
    "\n",
    "            authorIds_list_coll = [d['authorId'] for d in authors]\n",
    "\n",
    "            paper_dataset_dict['paper_id'].append(paper_id)\n",
    "            paper_dataset_dict['title'].append(tit)\n",
    "            paper_dataset_dict['year'].append(years)\n",
    "            paper_dataset_dict['externalIds'].append(doi)\n",
    "            paper_dataset_dict['citationCount'].append(citation_count)\n",
    "            paper_dataset_dict['fields'].append(categories)\n",
    "            paper_dataset_dict['author_ids'].append(authorIds_list_coll)"
   ],
   "metadata": {
    "collapsed": false,
    "pycharm": {
     "name": "#%%\n"
    }
   }
  },
  {
   "cell_type": "code",
   "execution_count": null,
   "outputs": [],
   "source": [
    "paper_dataset_df = pd.DataFrame(paper_dataset_dict)"
   ],
   "metadata": {
    "collapsed": false,
    "pycharm": {
     "name": "#%%\n"
    }
   }
  },
  {
   "cell_type": "code",
   "execution_count": null,
   "outputs": [],
   "source": [
    "paper_dataset_df = paper_dataset_df.drop_duplicates('paper_id')"
   ],
   "metadata": {
    "collapsed": false,
    "pycharm": {
     "name": "#%%\n"
    }
   }
  },
  {
   "cell_type": "code",
   "execution_count": null,
   "outputs": [],
   "source": [
    "paper_dataset_df.to_csv('paper_dataset.csv')"
   ],
   "metadata": {
    "collapsed": false,
    "pycharm": {
     "name": "#%%\n"
    }
   }
  },
  {
   "cell_type": "markdown",
   "source": [
    "### Paper abstract dataset"
   ],
   "metadata": {
    "collapsed": false,
    "pycharm": {
     "name": "#%% md\n"
    }
   }
  },
  {
   "cell_type": "code",
   "execution_count": null,
   "outputs": [],
   "source": [
    "        for i in range(len(all_data_list[itr]['papers'])):\n",
    "            paper_id = item['papers'][i]['paperId']\n",
    "            abstract = item['papers'][i]['abstract']\n",
    "\n",
    "            paper_abstract_dataset_dict['paper_id'].append(paper_id)\n",
    "            paper_abstract_dataset_dict['abstract'].append(abstract)"
   ],
   "metadata": {
    "collapsed": false,
    "pycharm": {
     "name": "#%%\n"
    }
   }
  },
  {
   "cell_type": "code",
   "execution_count": null,
   "outputs": [],
   "source": [
    "# Paper abstract dataset\n",
    "\n",
    "paper_abstract_dataset_dict = {\"paper_id\": [], \"abstract\": []}\n",
    "\n",
    "for item, itr in zip(all_data_list, range(len(all_data_list))):\n",
    "\n",
    "    if item == 'message' or item==None:\n",
    "        pass\n",
    "    else:\n",
    "        paper_ids = [p['paperId'] for p in all_data_list[itr]['papers']]\n",
    "        abstracts = [p['abstract'] for p in all_data_list[itr]['papers']]\n",
    "\n",
    "        for paperid in paper_ids:\n",
    "            paper_abstract_dataset_dict['paper_id'].append(paperid)\n",
    "\n",
    "        for abstract in abstracts:\n",
    "            paper_abstract_dataset_dict['abstract'].append(abstract)"
   ],
   "metadata": {
    "collapsed": false,
    "pycharm": {
     "name": "#%%\n"
    }
   }
  },
  {
   "cell_type": "code",
   "execution_count": null,
   "outputs": [],
   "source": [
    "paper_abstract_dataset_df = pd.DataFrame(paper_abstract_dataset_dict)"
   ],
   "metadata": {
    "collapsed": false,
    "pycharm": {
     "name": "#%%\n"
    }
   }
  },
  {
   "cell_type": "code",
   "execution_count": null,
   "outputs": [],
   "source": [
    "paper_abstract_dataset_df = paper_abstract_dataset_df.drop_duplicates(subset=['paper_id'])"
   ],
   "metadata": {
    "collapsed": false,
    "pycharm": {
     "name": "#%%\n"
    }
   }
  },
  {
   "cell_type": "code",
   "execution_count": null,
   "outputs": [],
   "source": [
    "paper_abstract_dataset_df.to_csv(\"paper_abstract_dataset_df.csv\")"
   ],
   "metadata": {
    "collapsed": false,
    "pycharm": {
     "name": "#%%\n"
    }
   }
  },
  {
   "cell_type": "code",
   "execution_count": 21,
   "outputs": [
    {
     "name": "stdout",
     "output_type": "stream",
     "text": [
      "Length of the paper data set: 4505707 \n",
      " Length of the author data set: 94465\n"
     ]
    }
   ],
   "source": [
    "#So we don't have to run the whole code again:\n",
    "paper_dataFrame = pd.read_csv(r\"paper_dataset.csv\")\n",
    "author_dataFrame = pd.read_csv(r\"author_dataset.csv\")\n",
    "\n",
    "print(f\"Length of the paper data set: {len(paper_dataFrame)} \\nLength of the author data set: {len(author_dataFrame)}\")"
   ],
   "metadata": {
    "collapsed": false,
    "pycharm": {
     "name": "#%%\n"
    }
   }
  },
  {
   "cell_type": "markdown",
   "source": [
    "#### Part 2 - Excercis 3: Length of the two datasets\n",
    "\n",
    "As can be seen from running the previous code block we have that:\n",
    "\n",
    "The length of the paper dataset is 4505707 and the length of the author dataset is 94465.\n",
    "\n",
    "So on average, we have approximately 45 papers per author."
   ],
   "metadata": {
    "collapsed": false,
    "pycharm": {
     "name": "#%% md\n"
    }
   }
  },
  {
   "cell_type": "markdown",
   "source": [
    "#### Part 3 - The Code"
   ],
   "metadata": {
    "collapsed": false,
    "pycharm": {
     "name": "#%% md\n"
    }
   }
  },
  {
   "cell_type": "markdown",
   "source": [
    "### Part 3 - Excercise 1\n",
    "\n",
    "We start by creating some functions for calculating cummulative statistics we will use throughout the excercise."
   ],
   "metadata": {
    "collapsed": false,
    "pycharm": {
     "name": "#%% md\n"
    }
   }
  },
  {
   "cell_type": "code",
   "execution_count": 1,
   "outputs": [],
   "source": [
    "import numpy as np\n",
    "import matplotlib.pyplot as plt\n",
    "import math\n",
    "import pandas as pd"
   ],
   "metadata": {
    "collapsed": false,
    "pycharm": {
     "name": "#%%\n"
    }
   }
  },
  {
   "cell_type": "code",
   "execution_count": 2,
   "outputs": [],
   "source": [
    "def cummulativeAverage(array):\n",
    "    Cum_avg = []\n",
    "    for x in range(1,len(array) + 1):\n",
    "        Cum_avg += [np.sum(array[0:x])/x]\n",
    "\n",
    "    return Cum_avg\n",
    "\n",
    "def cummulativeMean(array):\n",
    "    Cum_mean = []\n",
    "    for x in range(1,len(array) + 1):\n",
    "        Cum_mean += [np.mean(array[0:x])]\n",
    "\n",
    "    return Cum_mean\n",
    "\n",
    "def cummulativeMed(array):\n",
    "    Cum_med = []\n",
    "    for x in range(1,len(array) + 1):\n",
    "        Cum_med += [np.median(array[0:x])]\n",
    "\n",
    "    return Cum_med\n",
    "\n",
    "def cummulativeSTD(array):\n",
    "    Cum_STD = []\n",
    "    for x in range(1,len(array) + 1):\n",
    "        Cum_STD += [np.std(array[0:x])/math.sqrt(x)]\n",
    "\n",
    "    return Cum_STD\n",
    "\n",
    "#Creates the X-vector\n",
    "def createXVector(n):\n",
    "    XVector = []\n",
    "    for x in range(n):\n",
    "        XVector += [x]\n",
    "\n",
    "    return XVector\n",
    "\n",
    "\n",
    "#returns a dict, which we can easily use to plot all the graphs - we could've used a DF, but no need to bother with that, we just need to plot the arrays\n",
    "def getCummulativeStatistics(YVector):\n",
    "    dict = {\"cumAvg\":cummulativeAverage(YVector),\"cumMed\":cummulativeMed(YVector),\"cumSTD\":cummulativeSTD(YVector)}\n",
    "    return dict"
   ],
   "metadata": {
    "collapsed": false,
    "pycharm": {
     "name": "#%%\n"
    }
   }
  },
  {
   "cell_type": "code",
   "execution_count": 3,
   "outputs": [],
   "source": [
    "#Heavy tailed histograms need to be plotted on logarithmic scale, otherwise it will just be single big horizontal bar\n",
    "def getFixAxHeavyTailedHistogram(data,bins=500):\n",
    "    fig,ax = plt.subplots()\n",
    "    ax.hist(data,bins=np.logspace(0,np.log10(max(data)),bins),density=True) #500 appears to give us the most information without zooming too far out\n",
    "    ax.set_yscale(\"log\")\n",
    "    ax.set_xscale(\"log\")\n",
    "    return fig,ax\n",
    "\n",
    "\n",
    "#Function for plotting all the different statistics\n",
    "def getStatisticsPlot(cumStatsDic,distStatsDic,XVector):\n",
    "    Cum_avg = cumStatsDic[\"cumAvg\"]\n",
    "    Cum_STD = cumStatsDic[\"cumSTD\"]\n",
    "    Cum_med = cumStatsDic[\"cumMed\"]\n",
    "    Dist_med = distStatsDic[\"distMed\"]\n",
    "    Dist_mean = distStatsDic[\"distMean\"]\n",
    "\n",
    "    fig,ax = plt.subplots(2,1)\n",
    "    ax[0].errorbar(XVector,Cum_avg,yerr=Cum_STD,c=\"orange\",ecolor=\"cyan\",label=\"Cummulative mean\")\n",
    "    ax[0].axhline(Dist_mean,c=\"green\",label=\"Distribution mean\")\n",
    "    ax[1].axhline(Dist_med,c=\"orange\",label=\"Distribution median\")\n",
    "    ax[1].plot(XVector,Cum_med,c=\"blue\",label=\"Cummulative median\")\n",
    "    ax[1].set_xlabel(\"Sample size\")\n",
    "    ax[0].set_ylabel(\"Cummulative average\")\n",
    "    ax[1].set_ylabel(\"Cummulative median\")\n",
    "    #fig.legend(loc=\"center right\") - the legend couldn't fit anywhere\n",
    "    return fig,ax\n"
   ],
   "metadata": {
    "collapsed": false,
    "pycharm": {
     "name": "#%%\n"
    }
   }
  },
  {
   "cell_type": "code",
   "execution_count": null,
   "outputs": [],
   "source": [
    "### Gaussian distribution"
   ],
   "metadata": {
    "collapsed": false,
    "pycharm": {
     "name": "#%%\n"
    }
   }
  },
  {
   "cell_type": "code",
   "execution_count": 4,
   "outputs": [
    {
     "data": {
      "text/plain": "<Figure size 640x480 with 1 Axes>",
      "image/png": "[encoded data removed]"
     },
     "metadata": {},
     "output_type": "display_data"
    }
   ],
   "source": [
    "n = 10000\n",
    "sigma = 4\n",
    "Y_Norm = sigma * np.random.standard_normal(n)\n",
    "plt.hist(Y_Norm,bins=150)\n",
    "\n",
    "#We get the statistics\n",
    "XVector = createXVector(n)\n",
    "\n",
    "cummulative_Stats_Norm = getCummulativeStatistics(Y_Norm)\n",
    "\n",
    "#Based on the formulas from Wikipedia (https://en.wikipedia.org/wiki/Normal_distribution):\n",
    "\n",
    "norm_mean = 0\n",
    "norm_median = 0\n",
    "norm_dist_dict = {\"distMed\":norm_median,\"distMean\":norm_mean}"
   ],
   "metadata": {
    "collapsed": false,
    "pycharm": {
     "name": "#%%\n"
    }
   }
  },
  {
   "cell_type": "markdown",
   "source": [
    "### This will be the same for all the plots:\n",
    "\n",
    "Upper plot:\n",
    "The cyan blue vertical bars are cummulative standard errors at the given sample size\n",
    "The orange line is the cummulative mean/average at the given sample size\n",
    "The horizontal light green line is the theoretical distribution average/mean\n",
    "\n",
    "Lower plot:\n",
    "The dark blue line is the cummulative median at the given sample size\n",
    "The flat orange line is the theoretical distribution median"
   ],
   "metadata": {
    "collapsed": false,
    "pycharm": {
     "name": "#%% md\n"
    }
   }
  },
  {
   "cell_type": "code",
   "execution_count": 5,
   "outputs": [
    {
     "data": {
      "text/plain": "<Figure size 640x480 with 2 Axes>",
      "image/png": "[encoded data removed]"
     },
     "metadata": {},
     "output_type": "display_data"
    }
   ],
   "source": [
    "fig_norm_stats,ax_norm_stats = getStatisticsPlot(cummulative_Stats_Norm,norm_dist_dict,XVector)"
   ],
   "metadata": {
    "collapsed": false,
    "pycharm": {
     "name": "#%%\n"
    }
   }
  },
  {
   "cell_type": "markdown",
   "source": [
    "### Pareto distribution"
   ],
   "metadata": {
    "collapsed": false,
    "pycharm": {
     "name": "#%% md\n"
    }
   }
  },
  {
   "cell_type": "code",
   "execution_count": 6,
   "outputs": [
    {
     "data": {
      "text/plain": "<Figure size 640x480 with 1 Axes>",
      "image/png": "[encoded data removed]"
     },
     "metadata": {},
     "output_type": "display_data"
    }
   ],
   "source": [
    "xM = 1\n",
    "alpha = 0.5\n",
    "Y_Pareto = 1+np.random.pareto(alpha,n)\n",
    "\n",
    "fig_hist_pareto,ax_hist_pareto = getFixAxHeavyTailedHistogram(Y_Pareto)\n",
    "\n",
    "cummulative_Stats_Pareto = getCummulativeStatistics(Y_Pareto)\n",
    "\n",
    "#Based on the formulas from Wikipedia (https://en.wikipedia.org/wiki/Pareto_distribution):\n",
    "pareto_mean = math.inf #For alpha<=1\n",
    "pareto_median = xM*4 #0.5^sqrt(2) = 4\n",
    "pareto_dist_dict = {\"distMed\":pareto_median,\"distMean\":pareto_mean}\n"
   ],
   "metadata": {
    "collapsed": false,
    "pycharm": {
     "name": "#%%\n"
    }
   }
  },
  {
   "cell_type": "code",
   "execution_count": 7,
   "outputs": [
    {
     "data": {
      "text/plain": "<Figure size 640x480 with 2 Axes>",
      "image/png": "[encoded data removed]"
     },
     "metadata": {},
     "output_type": "display_data"
    }
   ],
   "source": [
    "fig_pareto_stats,ax_pareto_stats = getStatisticsPlot(cummulative_Stats_Pareto,pareto_dist_dict,XVector)"
   ],
   "metadata": {
    "collapsed": false,
    "pycharm": {
     "name": "#%%\n"
    }
   }
  },
  {
   "cell_type": "markdown",
   "source": [
    "### Log normal distribution"
   ],
   "metadata": {
    "collapsed": false,
    "pycharm": {
     "name": "#%% md\n"
    }
   }
  },
  {
   "cell_type": "code",
   "execution_count": 8,
   "outputs": [
    {
     "data": {
      "text/plain": "<Figure size 640x480 with 1 Axes>",
      "image/png": "[encoded data removed]"
     },
     "metadata": {},
     "output_type": "display_data"
    }
   ],
   "source": [
    "sigma = 4\n",
    "Y_logNorm =  np.exp(sigma*np.random.standard_normal(n))\n",
    "#Y_logNorm = np.random.lognormal(0,sigma,n)\n",
    "\n",
    "fig_hist_logNorm,ax_hist_logNorm = getFixAxHeavyTailedHistogram(Y_logNorm)\n",
    "#plt.hist(Y_logNorm,bins=100)\n",
    "\n",
    "cummulative_Stats_LogNorm = getCummulativeStatistics(Y_logNorm)\n",
    "\n",
    "#Based on the formulas from Wikipedia (https://en.wikipedia.org/wiki/Log-normal_distribution):\n",
    "logNorm_mean = math.exp(16/2)\n",
    "logNorm_median = math.exp(0)\n",
    "logNorm_dist_dict = {\"distMed\":logNorm_median,\"distMean\":logNorm_mean}"
   ],
   "metadata": {
    "collapsed": false,
    "pycharm": {
     "name": "#%%\n"
    }
   }
  },
  {
   "cell_type": "code",
   "execution_count": 9,
   "outputs": [
    {
     "data": {
      "text/plain": "<Figure size 640x480 with 2 Axes>",
      "image/png": "[encoded data removed]"
     },
     "metadata": {},
     "output_type": "display_data"
    }
   ],
   "source": [
    "fig_logNorm_stats,ax_logNorm_stats = getStatisticsPlot(cummulative_Stats_LogNorm,logNorm_dist_dict,XVector)"
   ],
   "metadata": {
    "collapsed": false,
    "pycharm": {
     "name": "#%%\n"
    }
   }
  },
  {
   "cell_type": "markdown",
   "source": [
    "### Paper sample"
   ],
   "metadata": {
    "collapsed": false,
    "pycharm": {
     "name": "#%% md\n"
    }
   }
  },
  {
   "cell_type": "code",
   "execution_count": 23,
   "outputs": [],
   "source": [
    "paper_DataFrame = pd.read_csv(r\"C:\\Users\\DripTooHard\\PycharmProjects\\SocialInformatics\\Assignment1\\paper_dataset.csv\",index_col=0)\n",
    "citationCountArray = paper_DataFrame[paper_DataFrame[\"year\"] == 2009][\"citationCount\"].tolist()"
   ],
   "metadata": {
    "collapsed": false,
    "pycharm": {
     "name": "#%%\n"
    }
   }
  },
  {
   "cell_type": "code",
   "execution_count": 24,
   "outputs": [],
   "source": [
    "Y_Paper = citationCountArray\n",
    "\n",
    "#We can only calculate the empirical statistics\n",
    "dist_mean_paper = np.mean(Y_Paper)\n",
    "dist_med_paper = np.median(Y_Paper)\n",
    "\n",
    "paper_dist_dict = {\"distMed\":dist_med_paper,\"distMean\":dist_mean_paper}\n"
   ],
   "metadata": {
    "collapsed": false,
    "pycharm": {
     "name": "#%%\n"
    }
   }
  },
  {
   "cell_type": "code",
   "execution_count": 27,
   "outputs": [
    {
     "data": {
      "text/plain": "(array([5.647e+03, 1.053e+03, 6.630e+02, ..., 0.000e+00, 0.000e+00,\n        1.000e+00]),\n array([0.0000000e+00, 1.0147000e+01, 2.0294000e+01, ..., 2.0273706e+04,\n        2.0283853e+04, 2.0294000e+04]),\n <BarContainer object of 2000 artists>)"
     },
     "execution_count": 27,
     "metadata": {},
     "output_type": "execute_result"
    },
    {
     "data": {
      "text/plain": "<Figure size 640x480 with 1 Axes>",
      "image/png": "[encoded data removed]"
     },
     "metadata": {},
     "output_type": "display_data"
    }
   ],
   "source": [
    "Y_PaperSamp = np.random.choice(citationCountArray,10000,replace=False)\n",
    "#Y_PaperSamp = Y_Paper\n",
    "XVector = createXVector(len(Y_PaperSamp))\n",
    "\n",
    "cummulative_Stats_PaperSamp = getCummulativeStatistics(Y_PaperSamp)\n",
    "\n",
    "#Once again, we can only calculate the empirical statistics\n",
    "dist_mean_paper_samp = np.mean(Y_PaperSamp)\n",
    "dist_med_paper_samp = np.median(Y_PaperSamp)\n",
    "\n",
    "paperSamp_dist_dict = {\"distMed\":dist_med_paper_samp,\"distMean\":dist_mean_paper_samp}\n",
    "\n",
    "\n",
    "#getFixAxHeavyTailedHistogram(Y_PaperSamp,400)\n",
    "plt.xlim([0,300])\n",
    "plt.hist(Y_PaperSamp,bins=2000)\n"
   ],
   "metadata": {
    "collapsed": false,
    "pycharm": {
     "name": "#%%\n"
    }
   }
  },
  {
   "cell_type": "code",
   "execution_count": 26,
   "outputs": [
    {
     "data": {
      "text/plain": "<Figure size 640x480 with 2 Axes>",
      "image/png": "[encoded data removed]"
     },
     "metadata": {},
     "output_type": "display_data"
    }
   ],
   "source": [
    "fig_paperSamp_stats,ax_paperSamp_stats = getStatisticsPlot(cummulative_Stats_PaperSamp,paperSamp_dist_dict,XVector)"
   ],
   "metadata": {
    "collapsed": false,
    "pycharm": {
     "name": "#%%\n"
    }
   }
  },
  {
   "cell_type": "markdown",
   "source": [
    "### Part 3, excercise 1: Look at the cummulative means for the three distributions\n",
    "###### Gaussian\n",
    "For the normal distribution, the general trend for the empirical cumulative average is that it converges towards its theoretical mean. This makes sense, as the majority of the density of a Gaussian distribution is centrered around its mean.\n",
    "\n",
    "###### Pareto\n",
    "For the Pareto distribution, we see that there are a bunch of “spikes,” that keeps the cumulative mean from converging to a single value. This is due to single outlier datapoints greatly skewing the mean at those spike-points. As a Pareto distribution is a heavy tailed distribution, and therefore has a greater density at its outliers, it is not surprising that we see this kind of pattern.\n",
    "\n",
    "Although, strictly speaking, it appears that the Pareto distribution IS converging towards its theoretical mean: Infinity. Albeit, it still does this much more noisily than the Gaussian distribution.\n",
    "\n",
    "###### Lognormal\n",
    "As can be no surprise, we observe the same pattern as with the Pareto for the lognormal distribution. This is of course because a lognormal distribution is a heavy tailed distribution itself.\n"
   ],
   "metadata": {
    "collapsed": false,
    "pycharm": {
     "name": "#%% md\n"
    }
   }
  },
  {
   "cell_type": "markdown",
   "source": [
    "### Part 3, excercise 2: Compare the cummulative median with the cummulative mean\n",
    "\n",
    "#### Gaussian\n",
    "\n",
    "For the Gaussian the mean and the median are the same, and the cummulatives converge to their respective theoretical statistics easily and without much divergence.\n",
    "\n",
    "#### Pareto and log normal\n",
    "\n",
    "For the two heavy tailed distributions, we see that the cummulative empirical means struggle with converging to the theoretical mean. This is due to the constant noise induced by the outliers, which produce these spikes before the cummulative means can converge to the theoretical means.\n",
    "\n",
    "On the other hand, the median is much more robust towards outliers and therefore easily converges, even for the heavy tailed distributions, towards its theoretical counterpart.\n",
    "\n",
    "In order to demonstrate, let us say we have 7 data points [0,1,2,3,4,5,6], the median being 3 and we get a 7th data point 2000000, the median goes from 3 to 3.5. While for the same scenario, the average would've gone from 3 to 250003.\n",
    "\n",
    "It is therefore possible to conclude, that the median is much better at the describing the underlying distribution than the mean for heavy tailed distributions, as it is much more robust towards outliers."
   ],
   "metadata": {
    "collapsed": false,
    "pycharm": {
     "name": "#%% md\n"
    }
   }
  },
  {
   "cell_type": "markdown",
   "source": [
    "#### Part 3, excercise 3: Consider the citation plot data\n",
    "\n",
    "Looking at our graphs, we see that our histogram ressembles that of a power law, with the majority of samples concentrated around 0 and a tail that stretches all the way to around 200.\n",
    "\n",
    "If we look at the line plots, we see that for the sample it has a hard time converging towards the mean. And even when it does the STD errors are relatively big compared to the normal distribution.\n",
    "\n",
    "Of course, the plots are all dependent on the seed we use for generating the random samples. Sometimes we will also see a \"traditional\" heavy-tailed plot with spikes as in the other cases, although this doesn't occur as frequently and consistently as with the other cases. And sometimes - rarely - we even get plots that easily converge to the mean.\n",
    "\n",
    "This might indicate, that our heavy-tailed distribution is a little less heavy-tailed than the other distributions. As we're sometimes able to sample our distribution without encountering any sudden spikes."
   ],
   "metadata": {
    "collapsed": false,
    "pycharm": {
     "name": "#%% md\n"
    }
   }
  },
  {
   "cell_type": "markdown",
   "source": [
    "Furthermore, we see that the median is far from the average, that is, a few papers get a lot of citations while a lot of papers get very few citations. Which results in a skewed average.\n",
    "\n",
    "In fact, if we look at the population as a whole, we can see that approximately 78% of the papers have fewer citations than the average, while the top fifteen thousand highest citations got ninety seven or more citations, with the highest hundred getting approx. 2500 or more and the highest getting over 20 thousand. The average being 40 citations.\n",
    "\n",
    "In this particular case approximately 80% of the distribution lies under the average. The average is approx. 6 times greater than the median. Considering this means, that the 20% of the population above the average - the outliers - have been able to unproportionally skew the average, it appears that, we're following a power law distribution. That is, there is a skewed relationship between the citations and the average, where a very few number of outliers dominate the statistics of the distribution.\n",
    "\n",
    "More concretly, it appears our data follows the 20-80 rule, where 80 percent of the citations are \"owned\" by 20% of our population.\n",
    "\n",
    "We see a strongly similiar pattern of skewedness towards the extreme outliers for the random sample, lending itself to the same conclusion.\n",
    "\n",
    "\n",
    "The implications of all of this is that we're dealing with a heavy-tailed distribution, following the power law.\n",
    "\n"
   ],
   "metadata": {
    "collapsed": false,
    "pycharm": {
     "name": "#%% md\n"
    }
   }
  },
  {
   "cell_type": "code",
   "execution_count": 14,
   "outputs": [
    {
     "name": "stdout",
     "output_type": "stream",
     "text": [
      "Average for the whole population: 41.28319525584206\n",
      "Ratio between the mean and the median: 5.897599322263152\n",
      "Percentage of papers below the average: 78.68465451248993%\n"
     ]
    }
   ],
   "source": [
    "papersBelowAverage = [paper for paper in Y_Paper if paper < dist_mean_paper]\n",
    "print(f\"Average for the whole population: {dist_mean_paper}\\nRatio between the mean and the median: {dist_mean_paper/dist_med_paper}\\nPercentage of papers below the average: {len(papersBelowAverage)/len(citationCountArray)*100}%\")"
   ],
   "metadata": {
    "collapsed": false,
    "pycharm": {
     "name": "#%%\n"
    }
   }
  },
  {
   "cell_type": "code",
   "execution_count": 15,
   "outputs": [
    {
     "name": "stdout",
     "output_type": "stream",
     "text": [
      "Average for the sample: 41.4851\n",
      "Ratio between the mean and the median: 5.897599322263152\n",
      "Percentage of papers below the average: 78.55%\n"
     ]
    }
   ],
   "source": [
    "papersSampBelowAverage = [paperSamp for paperSamp in Y_PaperSamp if paperSamp < dist_mean_paper_samp]\n",
    "print(f\"Average for the sample: {dist_mean_paper_samp}\\nRatio between the mean and the median: {dist_mean_paper/dist_med_paper_samp}\\nPercentage of papers below the average: {len(papersSampBelowAverage)/len(Y_PaperSamp)*100}%\")"
   ],
   "metadata": {
    "collapsed": false,
    "pycharm": {
     "name": "#%%\n"
    }
   }
  },
  {
   "cell_type": "markdown",
   "source": [
    "#### Part 3, excercise 4: Main message\n",
    "\n",
    "It appears that the main message is twofold;\n",
    "\n",
    "Descriptive statistics may not neccessarily accurately represent the underlying data. This was also the point of the linear regression excercises earlier in the course.\n",
    "\n",
    "And the other being, that descriptive statistics are not created equal. And the choosing the right statistic is dependent on the underlying shape of the data.\n",
    "\n",
    "Particularly in this case, samples taken from heavy tailed distributions are badly described by their means, but much better described by their medians."
   ],
   "metadata": {
    "collapsed": false,
    "pycharm": {
     "name": "#%% md\n"
    }
   }
  },
  {
   "cell_type": "code",
   "execution_count": null,
   "outputs": [],
   "source": [],
   "metadata": {
    "collapsed": false,
    "pycharm": {
     "name": "#%%\n"
    }
   }
  }
 ],
 "metadata": {
  "kernelspec": {
   "display_name": "Python 3",
   "language": "python",
   "name": "python3"
  },
  "language_info": {
   "codemirror_mode": {
    "name": "ipython",
    "version": 2
   },
   "file_extension": ".py",
   "mimetype": "text/x-python",
   "name": "python",
   "nbconvert_exporter": "python",
   "pygments_lexer": "ipython2",
   "version": "2.7.6"
  }
 },
 "nbformat": 4,
 "nbformat_minor": 0
}