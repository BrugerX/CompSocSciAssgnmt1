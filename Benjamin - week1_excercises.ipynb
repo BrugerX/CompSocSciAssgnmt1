{
 "cells": [
  {
   "cell_type": "markdown",
   "source": [
    "We will need:\n",
    "\n",
    "beautifulsoup4\n",
    "pandas\n",
    "\n",
    "Furthermore, we will need all the links gathered in one place for convinience"
   ],
   "metadata": {
    "collapsed": false,
    "pycharm": {
     "name": "#%% md\n"
    }
   }
  },
  {
   "cell_type": "code",
   "execution_count": 190,
   "outputs": [],
   "source": [
    "import bs4\n",
    "import pandas\n",
    "import urllib\n",
    "links = {\"Oral19\":r\"https://2019.ic2s2.org/oral-presentations/\",\"Poster19\":r\"https://2019.ic2s2.org/posters/\",\"OralAndPoster20\":r\"https://docs.google.com/spreadsheets/d/e/2PACX-1vTX9_1Xftn7D-nSI8X9b7tafr_Z0kAbphKdfZ8qUSU9p-syXNsGPdhHl5ZyTnKKL-T6dCEJqtsrn3wy/pubhtml?gid=181378784&single=true&widget=true&headers=false\",\"OralAndPoster21\":r\"https://easychair.org/smart-program/IC2S2-2021/talk_author_index.html\"}\n",
    "\n",
    "def getWebpagesBS4(link):\n",
    "    page = urllib.request.urlopen(link)\n",
    "    return bs4.BeautifulSoup(page)"
   ],
   "metadata": {
    "collapsed": false,
    "pycharm": {
     "name": "#%%\n"
    }
   }
  },
  {
   "cell_type": "markdown",
   "source": [
    "First we need to get a list of all the different presentations, then we can treat each presentation individually"
   ],
   "metadata": {
    "collapsed": false,
    "pycharm": {
     "name": "#%% md\n"
    }
   }
  },
  {
   "cell_type": "code",
   "execution_count": 191,
   "outputs": [],
   "source": [
    "oral2019BS = getWebpagesBS4(links[\"Oral19\"])\n",
    "listOfAllPresentations = oral2019BS.find(\"div\",\"main\").findChild(\"div\").findChild(\"div\").findChild(\"article\").findChild(\"div\").findChild(\"div\",\"col-md-8\").findAll(\"p\")[3:]"
   ],
   "metadata": {
    "collapsed": false,
    "pycharm": {
     "name": "#%%\n"
    }
   }
  },
  {
   "cell_type": "markdown",
   "source": [
    "We can see, that the pattern for each table in the oral presentation 2019 is as follows:\n",
    "\n",
    "Scenario a)\n",
    "<em>\n",
    "Chair: NAME\n",
    "</em>\n",
    "\n",
    "Scenario b)\n",
    "<br>\n",
    "TIME0 - TIME1 - NAME0,NAME1,...,NAMEN. TITLE\n",
    "</br>\n",
    "or\n",
    "TIME0 - TIME1 - No Presentation\n"
   ],
   "metadata": {
    "collapsed": false,
    "pycharm": {
     "name": "#%% md\n"
    }
   }
  },
  {
   "cell_type": "code",
   "execution_count": 192,
   "outputs": [],
   "source": [
    "#Retruns a string where TIME0 - TIME1 - has been removed\n",
    "def getTextAfterTimestamp(text):\n",
    "    incrementer = 0\n",
    "    idx_end_of_timeStamp = 0\n",
    "    for idx,c in enumerate(text):\n",
    "        if (c == \"–\"):\n",
    "            incrementer += 1\n",
    "            if (incrementer == 2):\n",
    "                idx_end_of_timeStamp = idx + 1\n",
    "\n",
    "    return text[idx_end_of_timeStamp::]\n",
    "\n",
    "#Returns a set of names from a string formatted as: NAME0,NAME1,...,NAMEn{.,-}\n",
    "def getNamesFromText(text):\n",
    "    text = text[1:]\n",
    "    endingChars = {\".\":True,\"–\":True}\n",
    "    result_set = set()\n",
    "    current_name_string = \"\"\n",
    "\n",
    "    for idx,c in enumerate(text):\n",
    "        if(endingChars.get(c,False) and not text[idx-1].isupper()): #We check to see if the char is an ending char, and the letter before it wasn't an initial\n",
    "            result_set.add(current_name_string)\n",
    "            return result_set\n",
    "        elif (c == \",\"):\n",
    "            result_set.add(current_name_string)\n",
    "            current_name_string = \"\"\n",
    "        else:\n",
    "            if(c.isalpha() or len(current_name_string)>0): #We don't want spacebar at the start of the names\n",
    "                current_name_string += c\n",
    "\n",
    "    return result_set\n",
    "\n",
    "def getNameFromChair(text):\n",
    "    text = text.split(\":\")\n",
    "    name = text[1]\n",
    "    nameFiltered = \"\"\n",
    "\n",
    "    for chr in name:\n",
    "        if(chr.isalpha() or len(nameFiltered)>0):\n",
    "            nameFiltered+= chr\n",
    "\n",
    "    return nameFiltered"
   ],
   "metadata": {
    "collapsed": false,
    "pycharm": {
     "name": "#%%\n"
    }
   }
  },
  {
   "cell_type": "markdown",
   "source": [
    "We start off by getting all the names of the chairs, as we can use BS4 to get these quite easily:"
   ],
   "metadata": {
    "collapsed": false,
    "pycharm": {
     "name": "#%% md\n"
    }
   }
  },
  {
   "cell_type": "code",
   "execution_count": 193,
   "outputs": [],
   "source": [
    "set_of_names = set()\n",
    "for presentations in listOfAllPresentations:\n",
    "    chairAndName = presentations.find(\"em\").string\n",
    "    set_of_names.add(getNameFromChair(chairAndName))"
   ],
   "metadata": {
    "collapsed": false,
    "pycharm": {
     "name": "#%%\n"
    }
   }
  },
  {
   "cell_type": "markdown",
   "source": [
    "We then move unto getting all the presenters"
   ],
   "metadata": {
    "collapsed": false,
    "pycharm": {
     "name": "#%% md\n"
    }
   }
  },
  {
   "cell_type": "code",
   "execution_count": 194,
   "outputs": [
    {
     "name": "stdout",
     "output_type": "stream",
     "text": [
      "{'Abe Hofman', 'Nadia Metoui', 'David Darmon ', 'Geoffrey Canright', 'Chaoming Song', 'Rudy Arthur', 'Peter Van Aelst', 'Yifang Ma', 'Cristian Candia Vallejos', 'Timo Hartmann', 'Simon A. Levin', 'Hywel Williams', 'David Rozado', 'Manuel Cebrian', 'Ramona Roller', 'Ethan Bernstein', 'Kinga Makovi', 'Alex Pentland ', 'Fırat Duruşan', 'David Garcia ', 'János Kertész', 'Angelo Cardoso', 'Scott Hale', 'Theresa Gessler', 'Angel Sánchez', 'Abhishek Samantray', 'Johannes Gruber', 'Wojtek Przepiorka', 'Esteban Moro', 'Sai Hitesh Jonnalagadda', 'Tian Yang', 'Wei Lee Woon', 'Arnout van de Rijt', 'Jeremy Burke', 'Mel Stanfill', 'Mitsuhiro Odaka', 'Marco De Nadai', 'Takanori Nishida', 'Ashton Anderson', 'Joseph Bajjalieh', 'Kai Larsen', 'Ulrich Matter', 'Fernando Diaz', 'Przemyslaw Grabowicz', 'Laura Bringmann', 'Rachel Winter', 'Milena Tsvetkova ', 'Marco Brambilla', 'Joana Mendonça', 'James Evans', 'Andrea Ballatore', 'Alexandra Pang', 'Sune Lehmann Jørgensen', 'Philip Leifeld', 'Daniele Guariso', 'Flavio Pinheiro ', 'Alexandre Bovet', 'Reham Al Tamime', 'Markus Strohmaier', 'Sander Scholtus', 'Anna May', 'John T. Murphy', 'Ching Jin', 'Samin Aref', 'Yizhi Jing', 'Christina Bouwens', 'Juhi Kulshrestha', 'Jennifer Wortman Vaughan', 'Ece Mutlu', 'Abdullah Almaatouq', 'Hernan Makse', 'Jonathan Bright', 'Hang-Hyun Jo', 'David Martens', 'Robert Stelter', 'Ali Faqeeh', 'C. Lee Giles', 'Azadeh Nematzadeh', 'Alice Jang', 'Christos Nicolaides', 'Ingmar Weber', 'Antonio Molins', 'Hendrik Nunner', 'Nina Savela', 'Frank Takes', 'Hartmut Wessler', 'Jacob G. Foster', 'George Richardson', 'Steve R. Scheinert', 'Luis M. Rocha', 'Janos Kertesz', 'Shawnna Mullenax', 'Philipp Hövel', 'Juan Mateos-Garcia', 'Talal Rahwan', 'James P. Gleeson', 'Karsten Donnay', 'Gianluca Carnabuci', 'Eszter Bokanyi', 'Ramon Gras', 'Adam Pah', 'Chico Camargo', 'Manikumar Perla', 'Gordon Pennycook', 'Vincent Antonio Traag', 'Barbara McGillivray', 'Iacopo Pozzana', 'Federico Musciotto', 'Dirk Van Rooy', 'Sandra Gonzalez-Bailon', 'Henry Smart Iii', 'Manlio De Domenico', 'Spencer Hommel', 'Alexandru-Ionut Babeanu', 'Gael Le Mens', 'Jesse Shore', 'Alejandro Noriega Campero', 'Axel Bruns', 'Loretta Auvil', 'Marcin Waniek', 'Eduardo Graells-Garrido', 'George Lifchits', 'Santo Fortunato', 'Daniel Ciganda', 'Gianmarco De Francisci Morales', 'Milad Abbasiharofteh', 'Hee Youn Kwon', 'David Rand', 'Kayla de la Haye', 'Lu Liu', 'Alex Rutherford', 'Andrea Cavicchini', 'Gomez Vicenç', 'Antonio Lima', 'Vítor V. Vasconcelos', 'Duncan Watts', 'Adam Hughes', 'Yan Leng', 'Benjamin Meindl', 'Jussara Almeida', 'Isak Ladegaard', 'Henry Smart III', 'Johannes Bjelland', 'Yaneer Bar-Yam', 'Max Pellert', 'Mirko Reul', 'Gita Sukthankar', 'Yupeng Gu', 'Henk Stoof', 'Philipe Melo', 'Xi Zhang', 'Rense Corten', 'Eelke Heemskerk', 'Mohamed Musbah', 'Xiaowen Dong', 'Duncan Watts ', 'James Gleeson', 'Fabrizio Germano', 'Brian Uzzi', 'Kirk Bansak', 'Fabian Flöck', 'Mykola Makhortykh', 'Pradip Swarnakar', 'Florian Lemmerich', 'John Hagan', 'Ali Hürriyetoğlu', 'David Jurgens', 'Joris Broere', 'Brent D. Fegley', 'Nisha Baral', 'Gunter Maris', 'Dimosthenis Stefanidis', 'Johan Bollen', 'Tarik Roukny', 'Daniele Romanini', 'Morgan Frank', 'Lada Adamic', 'Cesar Hidalgo', 'Ziv Epstein', 'Jichao Li', 'Hanno Friedrich', 'Madeline Schiappa', 'Lisa Merten', 'Mohsen Mosleh', 'Riccardo Di Clemente', 'Rebekah Tromble', 'Yizhou Sun', 'William Cai', 'Bernard Koch', 'Subhayan Mukerjee', 'Marita Jacob', 'Yevgeniy Vorobeychik', 'Rahul Arulkumaran', 'Ronald Robertson', 'Jessica Hullman', 'Aniko Hannak ', 'Tamás Rudas', 'Telmo Menezes', 'Wouter van Atteveldt', 'Peter Barbrook-Johnson', 'Marc-Etienne Brunet', 'Hendrik Heuer', 'Yannick Léo', 'Jennifer Fest', 'Luke Stark', 'Walid Magdy', 'Christo Wilson', 'Robert West', 'Philippa Shoemark', 'Simone Centellegher', 'Susumu Nagayama', 'Ricardo Buera Corchón', 'Ivan Garibay', 'Ludo Waltman', 'Elizabeth Bruch', 'Alexandra Olteanu', 'Amirarsalan Rajabi', 'Vincenz Frey', 'Alexander Robertson', 'Abigail Jacobs', 'Meeyoung Cha', 'Tara Sowrirajan', 'Morgan R. Frank', 'Kyriacos Vitalis', 'Manoel Horta Ribeiro', 'Sandy Pentland', 'Alexander Mantzaris', 'Kirill Martynov', 'Chao Min', 'Daniel Larremore', 'Diego Saez-Trumper', 'Michael Conover', 'Amit Sharma', 'Iyad Rahwan ', 'Sandro Lera', 'Nate Dwyer', 'Andreia Sofia Teixeira', 'Benjamin Vandermarliere', 'Alejandro Espinosa-Rada', 'Tarunima Prabhakar', 'Michaela Maier', 'Jacob Miller', 'Sebastian Deri', 'Simon Schweighofer', 'Scott Althaus', 'Han van der Maas', 'Antonio Arechar', 'Robert West ', 'Lijun Sun', 'Diego Garlaschelli', 'Janina Beckmann', 'Maria Bolsinova', 'Swapnil Gavade', 'David Lazer', 'Tomasz P. Michalak', 'Ylli Prifti', 'Fabrício Benevenuto', 'George Vega Yon', 'Jakob Jünger', 'Marta González', 'Pontus Strimling', 'Roberta Sinatra', 'Ioannis K. Dassios', 'Jaehyuk Park', 'Joachim Piepenburg', 'Atte Oksanen', 'Lushi Chen', 'Mahmoudreza Babaei', 'Tyler Amos', 'Pasquale De Meo', 'Joseph Bak-Coleman', 'Johnnatan Messias', 'Gabriela Molina León', 'Uma Maheswari Gollapudi', 'Sara Encanaçao', 'Michiel Bakker', 'Jingwen Zhang', 'Oren Lederman', 'Yong-Yeol Ahn', 'Stella Neumann', 'Aliakbar Akbaritabar', 'Georgios Anagnostopoulos', 'Florianne Verkroost', 'Marina Petrova', 'Stiene Praet', 'Yang Yang', 'Oana Vuculescu', 'Damian Trilling', 'Sophie Cho', 'Javier Garcia-Bernardo', 'Heather Keathley', 'Alfredo Morales', 'Yohsuke Murase', 'Richard Zemel', 'Johannes Wachs', 'Laszlo Lorincz', 'Takayuki Mizuno', 'Zoltán Kmetty', 'Aleksandra Nenko', 'Marta Rivera-Alba', 'Aurelie Nardy', 'Philipp Lorenz-Spreen', 'Lukas Fervers', 'Nees Jan Van Eck', 'Jake Hofman', 'Forough Poursabzi-Sangdeh', 'Júlia Koltai', 'Kimmo Eriksson', 'Stephen M. Fiore', 'Dana Fisher', 'Kristina Gligoric', 'Emre Calisir', 'Daniel Goldstein', 'Nikolas Zöller', 'Vadake Narayanan', 'Chathika Gunaratne ', 'Avidit Acharya', 'Márton Karsai', 'Adina Nerghes', 'Ying Ding', 'Milan Janosov', 'Dong Nguyen', 'Nuria Oliver', 'Muyang Li', 'Gabor Bekes', 'Filippo Radicchi', 'Yuan Yuan', 'Maria Wolters', 'Ravi Bhavnani', 'Aleksandra Urman', 'Sharon Goldwater', 'Quinten Meertens', 'Frank van der Wouden', 'Kokil Jaidka', 'Frank Schweitzer', 'Krishna Gummadi', 'Vetle I. Torvik', 'Johan Ugander', 'Hyejin Youn', 'Milena Tsvetkova', 'Aniko Hannak', 'Farhana Ferdousi Liza', 'Nitin Bhushan', 'Ivan Smirnov', 'Binglu Wang', 'Cristian Jara Figueroa', 'Melissa Ellamil', 'Claudia Wagner', 'Jan Overgoor', 'Gerardo Iñiguez', 'Sunandan Chakraborty', 'Tom Broekel', 'Martin Hilbert', 'Fernando P. Santos', 'Haewoon Kwak', 'Yasuko Kawahata', 'Devyani Parameshwar', 'Gabriella Kazai', 'Matteo Magnani', 'Riccardo Gallotti', 'Jieyu Ding', 'David Garcia', 'Bernardo Garcia Bulle', 'Felix Victor Münch', 'David Gefen', 'Arnout van Delden', 'Marisa Vasconcelos', 'Yian Yin', 'Olga Silyutina', 'Jan van de Laan', 'Abhijnan Chakraborty', 'Andreas Breiter', 'Christa Brelsford', 'Isaac Waller', 'Marijn ten Thij', 'Hitoshi Mitsuhashi', 'Joseph D. O Brien', 'Qiusi Sun', 'Johan Koskinen', 'Dan Goldstein', 'Jorinde van de Vis', 'Dean Eckles', 'Omar Guerrero', 'Koen Schoors', 'Shubhanshu Mishra', 'Sicheng Dai', 'Oliver Hohlfeldt', 'Eric Fleury', 'Mikko Kivelä', 'Hugo Sousa', 'Michael Mauskapf', 'Pietro Panzarasa ', 'Yoshiki Ishikawa', 'Bogdan State', 'Alina Arseniev-Koehler', 'Zachary Neal', 'Ben Thies', 'Gian Maria Campedelli', 'Balazs Lengyel', 'Massimo Riccaboni', 'Kiran Garimella', 'Nicos Nicolaou', 'Matthieu Brinkhuis', 'Marcel Wittich', 'Lorien Jasny', 'Dieter Wang', 'Daniele Silvestro', 'Carlos Sarraute', 'Edwin de Jonge', 'Pei Zhou', 'Jaime Oliver', 'Simon Walk', 'Albert Laszlo Barabasi', 'Souvik Ghosh', 'Tobias Schröder', 'Iain Couzin', 'Jasser Jasser', 'Sait Bayrakdar', 'Gergő Tóth', 'Joanna Sterling', 'David Schoch', 'Masoomali Fatehkia', 'Marcella Morris', 'Edgar Morales Ramírez', 'Daniele Quercia', 'Judith Kas', 'Gustavo Jota Resende', 'Helge Reelfs', 'Galina Daraganova ', 'Elissa M. Redmiles', 'Joyojeet Pal ', 'Carlos Rodriguez Sickert', 'Alina Vogelgesang', 'Jana Diesner', 'Ridhi Kashyap ', 'Chathurani Senevirathna', 'Adam Pah and Brian Uzzi', 'Camille Roth', 'Yang Wang', 'Aamena Alshamsi', 'Chao Min ', 'David Rothschild', 'Samaneh Saadat', 'Flaminio Squazzoni', 'Alessandro Provetti', 'Giovanna Miritello', 'Hélène Bouchet', 'Ian Wood', 'Yifan Qian', 'Jianjun Sun', 'Flavio Pinheiro', 'Kimmo Kaski', 'Justin Chun-Ting Ho ', 'Kasper Welbers', 'Zijian Wang', 'Iyad Rahwan', 'Davide Vega', 'Neda B. Hajiakhoond ', 'Milan van den Heuvel', 'Casper Albers', 'Marios Dikaiakos', 'Luca Verginer', 'Mark Musen', 'Zhifan Luo', 'Irina Vartanova', 'Chathika Gunaratne', 'Erdem Yörük', 'Yuan Tian', 'Niccolo Pescetelli', 'Jonathan H. Morgan', 'Chris Tokita', 'Yelena Mejova', 'Petter Törnberg', 'Diego Pérez', 'Cornelius Puschmann', 'Yerka Freire-Vidal', 'Moved to 3D Text Analysis) Ivan Smirnov', 'Anastasia Salter', 'Francisco C. Santos', 'Daniel Rubenstein', 'Luis Amaral', 'Sanja Hajdinjak', 'Dimitrios Milioris', 'Clara Christner', 'William Rand', 'Vincent Buskens', 'r/>The Higher Education Space', 'Anna Shirokanova', 'Gabriel Fair ', 'Ju-Sung Lee', 'Fiona Murray', 'Alex Pentland', 'Dashun Wang', 'Yphtach Lelkes', 'Bruno Lepri', 'Bjarke Mørch Mønsted', 'Jisun An', 'Gary Fireman', 'Stefan Wojcik', 'Bernard Rimé', 'Sune Lehmann', 'Ridhi Kashyap', 'Alexandre P Francisco', 'Linda Steg', 'Bedoor Alshebli', 'Janos Török', 'Silke Adam', 'Kangsan Lee', 'Jennifer Allen', 'Dashun Wang ', 'Markus Mobius', 'Nicolas Todd', 'Chris Janssen', 'Anna Di Natale', 'Lisette Espín-Noboa', 'Olivia Newton', 'Brigitta Németh', 'Fredrik Jansson', 'Jens Hainmueller', 'Taha Yasseri', 'Charles Howland', 'Ivan Garibay ', 'Marc Keuschnigg', 'George Pallis', 'Dmitry Zinoviev', 'Jérémie Rappaz', 'Mason A. Porter', 'Federico Battiston', 'Satyam Mukherjee', 'Luca Maria Aiello', 'Leila Zia', 'Chung-Hong Chan', 'Thomas Baudin', 'Yi Bu', 'Ming Yin', 'Judith Moeller', 'Andrew King', 'Kai Zhou', 'Bedoor AlShebli ', 'Hanna Wallach', 'David Schoch ', 'Chathura Jayalath', 'Abigail Horn', 'Anamaria Berea', 'Akira Ishii', 'Dr', 'Tim Henrichsen', 'Jean-Pierre Chevrot', 'David Adelani', 'César Hidalgo', 'Çağrı Yoltar', 'Daniel Villatoro', 'Onyi Lam', 'Marco Schmitt', 'Lovro Šubelj'}\n"
     ]
    }
   ],
   "source": [
    "for presentations in listOfAllPresentations:\n",
    "    text = str(presentations)\n",
    "    presentations_list = text.split(\"<\")\n",
    "    for presentation in presentations_list:\n",
    "        if (len(presentation)>0 and presentation[0] == \"b\"): #We now have the start of each break\n",
    "            presentation_text = getTextAfterTimestamp(presentation)\n",
    "            if(not \"No presentation\" in presentation_text):\n",
    "                set_of_names = set_of_names.union(getNamesFromText(presentation_text))\n",
    "\n",
    "print(set_of_names)"
   ],
   "metadata": {
    "collapsed": false,
    "pycharm": {
     "name": "#%%\n"
    }
   }
  },
  {
   "cell_type": "markdown",
   "source": [
    "We can see a couple of errors, where we've scraped the title of the presentation as well as the presenter, we will remove these manually\n"
   ],
   "metadata": {
    "collapsed": false,
    "pycharm": {
     "name": "#%% md\n"
    }
   }
  },
  {
   "cell_type": "code",
   "execution_count": 195,
   "outputs": [],
   "source": [
    "set_of_names.remove(\"r/>The Higher Education Space\")\n",
    "set_of_names.remove(\"Moved to 3D Text Analysis) Ivan Smirnov\")\n",
    "set_of_names.add(\"Ivan Smirnov\")"
   ],
   "metadata": {
    "collapsed": false,
    "pycharm": {
     "name": "#%%\n"
    }
   }
  },
  {
   "cell_type": "code",
   "execution_count": 196,
   "outputs": [],
   "source": [
    "bs2021 = getWebpagesBS4(links[\"OralAndPoster21\"])"
   ],
   "metadata": {
    "collapsed": false,
    "pycharm": {
     "name": "#%%\n"
    }
   }
  },
  {
   "cell_type": "code",
   "execution_count": 197,
   "outputs": [],
   "source": [
    "listOfEntries = bs2021.find(\"div\",{\"id\":\"content\"}).findAll(\"tr\",{\"class\":\"entry\"})\n"
   ],
   "metadata": {
    "collapsed": false,
    "pycharm": {
     "name": "#%%\n"
    }
   }
  },
  {
   "cell_type": "code",
   "execution_count": 198,
   "outputs": [],
   "source": [
    "def findEndingIndex(first_and_last_names_String):\n",
    "    state = \"q0\"\n",
    "\n",
    "    for idx,char in enumerate(first_and_last_name_String):\n",
    "        if(char == \"<\" and state == \"q0\"):\n",
    "            state = \"<\"\n",
    "        elif(char == \"/\" and state == \"<\"):\n",
    "            state = \"/\"\n",
    "        elif(char == \"a\" and state == \"/\"):\n",
    "            state = \"a\"\n",
    "        elif (char == \">\" and state == \"a\"):\n",
    "            return idx - 3\n",
    "        else:\n",
    "            state = \"q0\"\n",
    "\n",
    "    return \"error\"\n",
    "\n",
    "def findStartingIndex(first_and_last_names_String):\n",
    "    state = \"q0\"\n",
    "\n",
    "    for idx,char in enumerate(first_and_last_name_String):\n",
    "        if(char == \"<\" and state == \"q0\"):\n",
    "            state = \"<\"\n",
    "        elif(char == \"/\" and state == \"<\"):\n",
    "            state = \"/\"\n",
    "        elif(char == \"s\" and state == \"/\"):\n",
    "            state = \"s\"\n",
    "        elif(char == \"p\" and state == \"s\"):\n",
    "            state = \"p\"\n",
    "        elif(char == \"a\" and state == \"p\"):\n",
    "            state = \"a\"\n",
    "        elif(char == \"n\" and state == \"a\"):\n",
    "            state = \"n\"\n",
    "        elif (char == \">\" and state == \"n\"):\n",
    "            state = \">\"\n",
    "        elif(char == \",\" and state == \">\"):\n",
    "            return idx + 1\n",
    "        else:\n",
    "            state = \"q0\"\n",
    "\n",
    "    return \"error\"\n",
    "\n",
    "def getFirstName(first_and_last_String):\n",
    "    starting_idx = findStartingIndex(first_and_last_name_String)\n",
    "    ending_idx = findEndingIndex(first_and_last_name_String)\n",
    "    return first_and_last_String[starting_idx:ending_idx]\n",
    "\n"
   ],
   "metadata": {
    "collapsed": false,
    "pycharm": {
     "name": "#%%\n"
    }
   }
  },
  {
   "cell_type": "code",
   "execution_count": 199,
   "outputs": [],
   "source": [
    "for entry in listOfEntries:\n",
    "    first_and_last_name = entry.find(\"td\",{\"class\":\"name\"})\n",
    "    first_and_last_name_String = str(first_and_last_name)\n",
    "    first_name = getFirstName(first_and_last_name_String)\n",
    "    last_name = first_and_last_name.find(\"span\").string\n",
    "    if(first_name != \"error\" and last_name != \"error\"):\n",
    "        if(first_name[0] == \" \"):\n",
    "            first_name = first_name[1:]\n",
    "\n",
    "        if(last_name[0] == \" \"):\n",
    "            full_name = first_name + last_name\n",
    "        else:\n",
    "            full_name = first_name + \" \" + last_name\n",
    "\n",
    "        set_of_names.add(full_name)"
   ],
   "metadata": {
    "collapsed": false,
    "pycharm": {
     "name": "#%%\n"
    }
   }
  },
  {
   "cell_type": "markdown",
   "source": [
    "We then convert our set to a dataframe, sort it to check for duplicates and then we save it."
   ],
   "metadata": {
    "collapsed": false,
    "pycharm": {
     "name": "#%% md\n"
    }
   }
  },
  {
   "cell_type": "code",
   "execution_count": 200,
   "outputs": [],
   "source": [
    "import pandas as pd\n",
    "import csv"
   ],
   "metadata": {
    "collapsed": false,
    "pycharm": {
     "name": "#%%\n"
    }
   }
  },
  {
   "cell_type": "code",
   "execution_count": 205,
   "outputs": [],
   "source": [
    "list_of_names = list(set_of_names)\n",
    "df = pd.DataFrame(list_of_names)\n",
    "df.sort_values(0)\n",
    "df.columns = [\"Names\"]\n",
    "df.to_csv(r\"C:\\Users\\DripTooHard\\PycharmProjects\\SocialInformatics\\Week1\\listOfCompSocNamesWeek1\",index=False)"
   ],
   "metadata": {
    "collapsed": false,
    "pycharm": {
     "name": "#%%\n"
    }
   }
  },
  {
   "cell_type": "code",
   "execution_count": null,
   "outputs": [],
   "source": [],
   "metadata": {
    "collapsed": false,
    "pycharm": {
     "name": "#%%\n"
    }
   }
  }
 ],
 "metadata": {
  "kernelspec": {
   "display_name": "Python 3",
   "language": "python",
   "name": "python3"
  },
  "language_info": {
   "codemirror_mode": {
    "name": "ipython",
    "version": 2
   },
   "file_extension": ".py",
   "mimetype": "text/x-python",
   "name": "python",
   "nbconvert_exporter": "python",
   "pygments_lexer": "ipython2",
   "version": "2.7.6"
  }
 },
 "nbformat": 4,
 "nbformat_minor": 0
}